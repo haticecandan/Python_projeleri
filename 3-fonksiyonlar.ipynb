{
 "cells": [
  {
   "cell_type": "markdown",
   "metadata": {},
   "source": [
    "**Fonksiyonlar**\n",
    "Sürekli tekrarlanması gereken işlemlerde aynı kodu tekrar tekrar yazmadan aynı işlevi birden çok kez gerçekleyebildiğimiz durumlarda kullanılır. \n",
    "\n",
    "def anahtar kelimesi ile oluşturulur.\n",
    "\n",
    "def fonksiyon_name (required):\n",
    "\n",
    "    -----------------\n",
    "    \n",
    "    -----------------\n",
    "\n",
    "    return(optional)"
   ]
  },
  {
   "cell_type": "markdown",
   "metadata": {},
   "source": [
    "* Parametreli \n",
    "* Parametresiz\n",
    "olarak 2'ye ayrılır."
   ]
  },
  {
   "cell_type": "code",
   "execution_count": 1,
   "metadata": {},
   "outputs": [
    {
     "name": "stdout",
     "output_type": "stream",
     "text": [
      "Hoş geldiniz! \n"
     ]
    }
   ],
   "source": [
    "def selamla ():\n",
    "    print(\"Hoş geldiniz! \")\n",
    "\n",
    "selamla()"
   ]
  },
  {
   "cell_type": "code",
   "execution_count": 3,
   "metadata": {},
   "outputs": [
    {
     "name": "stdout",
     "output_type": "stream",
     "text": [
      "Hoş geldin Hatice\n"
     ]
    }
   ],
   "source": [
    "def selamla(isim):\n",
    "    print(f\"Hoş geldin {isim}\")\n",
    "\n",
    "selamla(\"Hatice\")"
   ]
  },
  {
   "cell_type": "code",
   "execution_count": 6,
   "metadata": {},
   "outputs": [
    {
     "name": "stdout",
     "output_type": "stream",
     "text": [
      "Sonuç= 13\n"
     ]
    }
   ],
   "source": [
    "def add(num1, num2):\n",
    "    return num1 + num2\n",
    "\n",
    "print(\"Sonuç=\" , add(4,9))"
   ]
  },
  {
   "cell_type": "markdown",
   "metadata": {},
   "source": [
    "Modülün import edilmesi ile beraber fonksiyon kullanımı"
   ]
  },
  {
   "cell_type": "code",
   "execution_count": 7,
   "metadata": {},
   "outputs": [
    {
     "name": "stdout",
     "output_type": "stream",
     "text": [
      "97\n"
     ]
    }
   ],
   "source": [
    "import random\n",
    "\n",
    "print(random.randint(10,200))"
   ]
  },
  {
   "cell_type": "code",
   "execution_count": 9,
   "metadata": {},
   "outputs": [
    {
     "name": "stdout",
     "output_type": "stream",
     "text": [
      "23\n"
     ]
    }
   ],
   "source": [
    "from random import randint\n",
    "print(randint(10,100))"
   ]
  },
  {
   "cell_type": "markdown",
   "metadata": {},
   "source": [
    "Birden fazla dönüş"
   ]
  },
  {
   "cell_type": "code",
   "execution_count": 10,
   "metadata": {},
   "outputs": [
    {
     "name": "stdout",
     "output_type": "stream",
     "text": [
      "İki değerin;\n",
      "Toplamı = 15\n",
      "Çıkarma = 9\n",
      "Çarpma = 36\n",
      "Bölme = 4.0\n"
     ]
    }
   ],
   "source": [
    "#a, b, c, d = 1, 2, 3, 4\n",
    "def calculator(num1, num2):\n",
    "    add = num1 + num2\n",
    "    sub = num1 - num2\n",
    "    multiply = num1 * num2\n",
    "    division = num1 / num2\n",
    "\n",
    "    return add, sub, multiply, division\n",
    "\n",
    "a, b, c, d = calculator(12, 3)\n",
    "print(f\"İki değerin;\\nToplamı = {a}\\nÇıkarma = {b}\\nÇarpma = {c}\\nBölme = {d}\")"
   ]
  },
  {
   "cell_type": "code",
   "execution_count": 11,
   "metadata": {},
   "outputs": [
    {
     "name": "stdout",
     "output_type": "stream",
     "text": [
      "Fonksiyon içerisinde  local\n",
      "Fonksiyon içerisinde  Global\n",
      "Fonksiyon dışında  Global\n"
     ]
    },
    {
     "ename": "NameError",
     "evalue": "name 'local_variable' is not defined",
     "output_type": "error",
     "traceback": [
      "\u001b[1;31m---------------------------------------------------------------------------\u001b[0m",
      "\u001b[1;31mNameError\u001b[0m                                 Traceback (most recent call last)",
      "\u001b[1;32m<ipython-input-11-a01149c39acd>\u001b[0m in \u001b[0;36m<module>\u001b[1;34m\u001b[0m\n\u001b[0;32m      8\u001b[0m \u001b[0mfunc\u001b[0m\u001b[1;33m(\u001b[0m\u001b[1;33m)\u001b[0m\u001b[1;33m\u001b[0m\u001b[1;33m\u001b[0m\u001b[0m\n\u001b[0;32m      9\u001b[0m \u001b[0mprint\u001b[0m\u001b[1;33m(\u001b[0m\u001b[1;34m\"Fonksiyon dışında \"\u001b[0m\u001b[1;33m,\u001b[0m \u001b[0mglobal_variable\u001b[0m\u001b[1;33m)\u001b[0m\u001b[1;33m\u001b[0m\u001b[1;33m\u001b[0m\u001b[0m\n\u001b[1;32m---> 10\u001b[1;33m \u001b[0mprint\u001b[0m\u001b[1;33m(\u001b[0m\u001b[1;34m\"Fonksiyon dışında  \"\u001b[0m\u001b[1;33m,\u001b[0m \u001b[0mlocal_variable\u001b[0m\u001b[1;33m)\u001b[0m\u001b[1;33m\u001b[0m\u001b[1;33m\u001b[0m\u001b[0m\n\u001b[0m",
      "\u001b[1;31mNameError\u001b[0m: name 'local_variable' is not defined"
     ]
    }
   ],
   "source": [
    "global_variable = \"Global\"\n",
    "\n",
    "def func():\n",
    "    local_variable = \"local\"\n",
    "    print(\"Fonksiyon içerisinde \", local_variable)\n",
    "    print(\"Fonksiyon içerisinde \", global_variable)\n",
    "\n",
    "func()\n",
    "print(\"Fonksiyon dışında \", global_variable)\n",
    "print(\"Fonksiyon dışında  \", local_variable)"
   ]
  },
  {
   "cell_type": "markdown",
   "metadata": {},
   "source": [
    "Fonksiyonlar içerisinde değişkenlerin kapsamı\n",
    "\n",
    "* Yerel Değişken\n",
    "* Global Değişken"
   ]
  },
  {
   "cell_type": "code",
   "execution_count": 12,
   "metadata": {},
   "outputs": [
    {
     "name": "stdout",
     "output_type": "stream",
     "text": [
      "9\n",
      "4\n",
      "9\n"
     ]
    }
   ],
   "source": [
    "a = 9\n",
    "\n",
    "def print1 ():\n",
    "    print(a) #global\n",
    "\n",
    "def print2():\n",
    "    a = 4 #yerel değişken\n",
    "    print(a)\n",
    "\n",
    "def print3():\n",
    "    print(a)\n",
    "\n",
    "print1()\n",
    "print2()\n",
    "print3()"
   ]
  },
  {
   "cell_type": "code",
   "execution_count": 13,
   "metadata": {},
   "outputs": [
    {
     "name": "stdout",
     "output_type": "stream",
     "text": [
      "9\n",
      "4\n",
      "4\n"
     ]
    }
   ],
   "source": [
    "a = 9\n",
    "\n",
    "def print1 ():\n",
    "    print(a) #global\n",
    "\n",
    "def print2():\n",
    "    global a\n",
    "    a = 4 #yerel değişken\n",
    "    print(a)\n",
    "\n",
    "def print3():\n",
    "    print(a)\n",
    "\n",
    "print1()\n",
    "print2()\n",
    "print3()"
   ]
  },
  {
   "cell_type": "markdown",
   "metadata": {},
   "source": [
    "DEFAULT PARAMETRE TANIMLAMA "
   ]
  },
  {
   "cell_type": "code",
   "execution_count": 15,
   "metadata": {},
   "outputs": [
    {
     "name": "stdout",
     "output_type": "stream",
     "text": [
      "Hoş geldin  Hatice\n",
      "Hoş geldin  Sisterslab\n"
     ]
    }
   ],
   "source": [
    "def say_hello(name = \"Sisterslab\"):\n",
    "    print(\"Hoş geldin \", name)\n",
    "say_hello (\"Hatice\")\n",
    "say_hello()"
   ]
  },
  {
   "cell_type": "code",
   "execution_count": 16,
   "metadata": {},
   "outputs": [
    {
     "name": "stdout",
     "output_type": "stream",
     "text": [
      "Rabia adlı personel 26 yaşında. Maaşı 10000\n",
      "Zehra adlı personel 25 yaşında. Maaşı 5000\n"
     ]
    }
   ],
   "source": [
    "def person (name, age, salary = 5000):\n",
    "    print(f\"{name} adlı personel {age} yaşında. Maaşı {salary}\")\n",
    "person(\"Rabia\", 26 , 10000)\n",
    "person(\"Zehra\" , 25)"
   ]
  },
  {
   "cell_type": "code",
   "execution_count": 17,
   "metadata": {},
   "outputs": [
    {
     "name": "stdout",
     "output_type": "stream",
     "text": [
      "Toplam:  0\n",
      "Toplam:  19\n",
      "Toplam:  110.6\n"
     ]
    }
   ],
   "source": [
    "def add(*numbers):  # birden fazla değer alabileceği durumlar içim kullanılır\n",
    "    total = 0\n",
    "    for i in numbers:\n",
    "        total += i\n",
    "    print(\"Toplam: \", total)\n",
    "add () #0 argument\n",
    "add (1, 4, 6, 8)\n",
    "add (13.6, 7 ,90)"
   ]
  },
  {
   "cell_type": "code",
   "execution_count": 18,
   "metadata": {},
   "outputs": [
    {
     "name": "stdout",
     "output_type": "stream",
     "text": [
      "10 ile 23 değerleri arasındaki çift sayıların ortalaması :  16.0\n"
     ]
    }
   ],
   "source": [
    "# Kullanıcının girdiği 2 sayı arasındaki çift sayıları bulup ortalamasını alan fonksiyon yazalım.\n",
    "def isEven(num):\n",
    "    return num % 2 == 0\n",
    "\n",
    "start = int(input(\"Başlangıç Değeri: \"))\n",
    "end = int(input(\"Bitiş Değeri: \"))\n",
    "\n",
    "total = count = 0\n",
    "for item in range(start, end):\n",
    "    if isEven(item):\n",
    "        total += item\n",
    "        count += 1\n",
    "print(f\"{start} ile {end} değerleri arasındaki çift sayıların ortalaması : \", total / count)\n"
   ]
  },
  {
   "cell_type": "code",
   "execution_count": 20,
   "metadata": {},
   "outputs": [
    {
     "name": "stdout",
     "output_type": "stream",
     "text": [
      "True\n"
     ]
    }
   ],
   "source": [
    "# Bir sayının asal olup olmadığını fonksiyonla bulalım \n",
    "def asal (number):\n",
    "    result = True\n",
    "    for i in range(2, number):\n",
    "        if number % i == 0:\n",
    "            result = False\n",
    "            break\n",
    "    return result \n",
    "\n",
    "print(asal (17))\n"
   ]
  },
  {
   "cell_type": "markdown",
   "metadata": {},
   "source": []
  }
 ],
 "metadata": {
  "kernelspec": {
   "display_name": "Python 3.7.3 ('base')",
   "language": "python",
   "name": "python3"
  },
  "language_info": {
   "codemirror_mode": {
    "name": "ipython",
    "version": 3
   },
   "file_extension": ".py",
   "mimetype": "text/x-python",
   "name": "python",
   "nbconvert_exporter": "python",
   "pygments_lexer": "ipython3",
   "version": "3.7.3"
  },
  "orig_nbformat": 4,
  "vscode": {
   "interpreter": {
    "hash": "6912ba00987e029a9f827b41b63a8ff0aa2393659a17b15cb126b55946e71e2c"
   }
  }
 },
 "nbformat": 4,
 "nbformat_minor": 2
}
